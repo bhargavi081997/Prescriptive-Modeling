{
 "cells": [
  {
   "cell_type": "markdown",
   "id": "bc69b01d-ce28-4626-98a4-1bdf9df9cf1b",
   "metadata": {},
   "source": [
    "###  Assignment 2:  Bhargavi Duggirala (UID: 005634488)"
   ]
  },
  {
   "cell_type": "markdown",
   "id": "7dabe638-fcc9-42ac-bead-b0059d7dc425",
   "metadata": {},
   "source": [
    "## 1 Hospital admission & quality of service"
   ]
  },
  {
   "cell_type": "code",
   "execution_count": 1,
   "id": "d4ecf20a-1490-4639-a268-4735b3bceba2",
   "metadata": {},
   "outputs": [],
   "source": [
    "import numpy as np\n",
    "import pandas as pd\n",
    "import matplotlib.pyplot as plt\n",
    "import statsmodels.api as sm\n",
    "import statsmodels.formula.api as smf"
   ]
  },
  {
   "cell_type": "code",
   "execution_count": 18,
   "id": "9bc2df46",
   "metadata": {},
   "outputs": [],
   "source": [
    "##reading the health_data dataset"
   ]
  },
  {
   "cell_type": "code",
   "execution_count": 2,
   "id": "79d2f386-3bcd-4fb8-b662-162935d161ab",
   "metadata": {
    "scrolled": true
   },
   "outputs": [],
   "source": [
    "df_hospital = pd.read_csv('health_data.csv')"
   ]
  },
  {
   "cell_type": "markdown",
   "id": "d2726c9a-c9dc-4754-bb5f-f61d09c2217f",
   "metadata": {},
   "source": [
    "### Question 1"
   ]
  },
  {
   "cell_type": "code",
   "execution_count": 11,
   "id": "c27949a2-c470-4774-ab51-ac092f235d56",
   "metadata": {},
   "outputs": [
    {
     "name": "stdout",
     "output_type": "stream",
     "text": [
      "                            OLS Regression Results                            \n",
      "==============================================================================\n",
      "Dep. Variable:     patient_died_dummy   R-squared:                       0.042\n",
      "Model:                            OLS   Adj. R-squared:                  0.042\n",
      "Method:                 Least Squares   F-statistic:                     119.3\n",
      "Date:                Wed, 02 Feb 2022   Prob (F-statistic):          1.75e-220\n",
      "Time:                        21:33:08   Log-Likelihood:                -7416.5\n",
      "No. Observations:               24480   AIC:                         1.485e+04\n",
      "Df Residuals:                   24470   BIC:                         1.493e+04\n",
      "Df Model:                           9                                         \n",
      "Covariance Type:            nonrobust                                         \n",
      "====================================================================================\n",
      "                       coef    std err          t      P>|t|      [0.025      0.975]\n",
      "------------------------------------------------------------------------------------\n",
      "Intercept            0.0970      0.006     16.355      0.000       0.085       0.109\n",
      "hospital_id[T.B]     0.0072      0.008      0.890      0.373      -0.009       0.023\n",
      "hospital_id[T.C]    -0.0483      0.010     -4.776      0.000      -0.068      -0.028\n",
      "hospital_id[T.D]     0.1882      0.008     23.188      0.000       0.172       0.204\n",
      "hospital_id[T.E]    -0.0531      0.011     -4.771      0.000      -0.075      -0.031\n",
      "hospital_id[T.F]     0.0003      0.009      0.030      0.976      -0.017       0.017\n",
      "hospital_id[T.G]     0.0441      0.008      5.273      0.000       0.028       0.061\n",
      "hospital_id[T.H]     0.0038      0.009      0.414      0.679      -0.014       0.022\n",
      "hospital_id[T.I]     0.0318      0.009      3.480      0.001       0.014       0.050\n",
      "hospital_id[T.J]     0.0112      0.011      1.028      0.304      -0.010       0.032\n",
      "==============================================================================\n",
      "Omnibus:                     9228.833   Durbin-Watson:                   2.025\n",
      "Prob(Omnibus):                  0.000   Jarque-Bera (JB):            25954.225\n",
      "Skew:                           2.096   Prob(JB):                         0.00\n",
      "Kurtosis:                       5.807   Cond. No.                         10.0\n",
      "==============================================================================\n",
      "\n",
      "Notes:\n",
      "[1] Standard Errors assume that the covariance matrix of the errors is correctly specified.\n"
     ]
    }
   ],
   "source": [
    "model = smf.ols(formula = 'patient_died_dummy ~ hospital_id',\n",
    "                data = df_hospital)\n",
    "result = model.fit()\n",
    "print(result.summary())"
   ]
  },
  {
   "cell_type": "markdown",
   "id": "0a5db21f-0893-4bf1-8d97-d9760c2e7b35",
   "metadata": {},
   "source": [
    "(a) "
   ]
  },
  {
   "cell_type": "markdown",
   "id": "23e3bd4f-adbc-43c9-b108-833869d198f2",
   "metadata": {},
   "source": [
    "In the above regression, \n",
    "<br>Intercept term: When categorical variables are added to the regression, one of the categories is removed and the effect of this is measured through intercept. This intercept term gives the effect of Hospital A. Thus for hospital A, patient_died_dummy is the intercept, 0.0970. \n",
    "<br>The rest of the coefficients of the hospital IDs are measured with respect to Hospital A. Therefore, patient_died_dummy for Hospital D is 0.0970 + 0.1882 = 0.2852."
   ]
  },
  {
   "cell_type": "markdown",
   "id": "c8c9a7a1-8b57-407b-8993-aae5fa6520a6",
   "metadata": {},
   "source": [
    "(b) "
   ]
  },
  {
   "cell_type": "markdown",
   "id": "71553679-d1f1-432f-96d3-06f91c0afab4",
   "metadata": {},
   "source": [
    "Difference between mortality in D and E = Difference between the respective coefficients. \n",
    "Therefore, mortality rate at Hospital D is 0.1882 + 0.0531  = 0.2413 times higher than Hospital E."
   ]
  },
  {
   "cell_type": "markdown",
   "id": "b831c596-3cac-491b-95bb-7346e3b060f9",
   "metadata": {},
   "source": [
    "## Causal interpretation (or lack thereof)\n",
    "\n",
    "### Question 2"
   ]
  },
  {
   "cell_type": "code",
   "execution_count": 12,
   "id": "4a535fca-1c8d-49c1-b4f3-2051506bb2d4",
   "metadata": {},
   "outputs": [
    {
     "data": {
      "text/plain": [
       "array(['D', 'H', 'A', 'E', 'G', 'J', 'B', 'F', 'C', 'I'], dtype=object)"
      ]
     },
     "execution_count": 12,
     "metadata": {},
     "output_type": "execute_result"
    }
   ],
   "source": [
    "df_hospital['hospital_id'].unique()"
   ]
  },
  {
   "cell_type": "code",
   "execution_count": 13,
   "id": "d6374e18-cd27-4dd6-869b-4e7fe9c16e02",
   "metadata": {},
   "outputs": [],
   "source": [
    "df_hospital_AB = df_hospital[(df_hospital['hospital_id'] == 'A') | (df_hospital['hospital_id'] == 'B')] "
   ]
  },
  {
   "cell_type": "markdown",
   "id": "c2220917-dd3a-4ee5-a1b0-8232b310c927",
   "metadata": {},
   "source": [
    "Regress mortality on an intercept and a dummy for whether the patient visited\n",
    "hospital B."
   ]
  },
  {
   "cell_type": "code",
   "execution_count": 14,
   "id": "0273dc46-c47d-4b73-8964-342bdbdadb99",
   "metadata": {},
   "outputs": [
    {
     "name": "stdout",
     "output_type": "stream",
     "text": [
      "                            OLS Regression Results                            \n",
      "==============================================================================\n",
      "Dep. Variable:     patient_died_dummy   R-squared:                       0.000\n",
      "Model:                            OLS   Adj. R-squared:                 -0.000\n",
      "Method:                 Least Squares   F-statistic:                    0.9377\n",
      "Date:                Wed, 02 Feb 2022   Prob (F-statistic):              0.333\n",
      "Time:                        21:33:14   Log-Likelihood:                -1446.8\n",
      "No. Observations:                6611   AIC:                             2898.\n",
      "Df Residuals:                    6609   BIC:                             2911.\n",
      "Df Model:                           1                                         \n",
      "Covariance Type:            nonrobust                                         \n",
      "====================================================================================\n",
      "                       coef    std err          t      P>|t|      [0.025      0.975]\n",
      "------------------------------------------------------------------------------------\n",
      "Intercept            0.0970      0.005     17.791      0.000       0.086       0.108\n",
      "hospital_id[T.B]     0.0072      0.007      0.968      0.333      -0.007       0.022\n",
      "==============================================================================\n",
      "Omnibus:                     3377.258   Durbin-Watson:                   2.031\n",
      "Prob(Omnibus):                  0.000   Jarque-Bera (JB):            14683.814\n",
      "Skew:                           2.650   Prob(JB):                         0.00\n",
      "Kurtosis:                       8.022   Cond. No.                         2.72\n",
      "==============================================================================\n",
      "\n",
      "Notes:\n",
      "[1] Standard Errors assume that the covariance matrix of the errors is correctly specified.\n"
     ]
    }
   ],
   "source": [
    "model_1 = smf.ols(formula = 'patient_died_dummy ~ hospital_id',\n",
    "                data = df_hospital_AB)\n",
    "result = model_1.fit()\n",
    "print(result.summary())"
   ]
  },
  {
   "cell_type": "markdown",
   "id": "ab93fa4b-ae80-4033-92f0-c5c13cd5b533",
   "metadata": {},
   "source": [
    "(a) "
   ]
  },
  {
   "cell_type": "markdown",
   "id": "30633c0f-8fb0-4e38-8652-e4344a94ed09",
   "metadata": {},
   "source": [
    "Mortality rate was regressed on hospital Id in this regression. The difference in mortality rate cannot be interpreted as the causal effect. This is because many factors such as gender and age group which can influence the mortality rate are not included in the regression. There could be correlation between age group, gender with hospital. The regression can suffer from omitted variable bias without these variables which impact mortality rate."
   ]
  },
  {
   "cell_type": "markdown",
   "id": "b7dd1684-1d14-487e-bb76-669834d5ca68",
   "metadata": {},
   "source": [
    "(b) "
   ]
  },
  {
   "cell_type": "markdown",
   "id": "eb8cced9-285e-4a91-800e-e65426c738e4",
   "metadata": {},
   "source": [
    "The omitted variables (like gender and age) effect tells us if the mortality rate between hospitals is correctly estimated or not. The difference in mortality rate is 0.0072 without these variables. This signifies that the mortality rate at Hospital B> Hospital A. BUt the addition of the ommitted variales will lead us to the actual effect.\n"
   ]
  },
  {
   "cell_type": "markdown",
   "id": "52ad847e",
   "metadata": {},
   "source": [
    "Mortality rate by gender across both the hospitals:"
   ]
  },
  {
   "cell_type": "code",
   "execution_count": 26,
   "id": "82684a7e-2e46-4bd4-b803-73e0d414ad04",
   "metadata": {},
   "outputs": [
    {
     "name": "stdout",
     "output_type": "stream",
     "text": [
      "Mortality by gender across both hospitals:\n"
     ]
    },
    {
     "data": {
      "text/html": [
       "<div>\n",
       "<style scoped>\n",
       "    .dataframe tbody tr th:only-of-type {\n",
       "        vertical-align: middle;\n",
       "    }\n",
       "\n",
       "    .dataframe tbody tr th {\n",
       "        vertical-align: top;\n",
       "    }\n",
       "\n",
       "    .dataframe thead th {\n",
       "        text-align: right;\n",
       "    }\n",
       "</style>\n",
       "<table border=\"1\" class=\"dataframe\">\n",
       "  <thead>\n",
       "    <tr style=\"text-align: right;\">\n",
       "      <th></th>\n",
       "      <th>female_dummy</th>\n",
       "      <th>Mortality Rate</th>\n",
       "      <th>Gender</th>\n",
       "    </tr>\n",
       "  </thead>\n",
       "  <tbody>\n",
       "    <tr>\n",
       "      <th>0</th>\n",
       "      <td>0</td>\n",
       "      <td>0.061473</td>\n",
       "      <td>Male</td>\n",
       "    </tr>\n",
       "    <tr>\n",
       "      <th>1</th>\n",
       "      <td>1</td>\n",
       "      <td>0.242698</td>\n",
       "      <td>Female</td>\n",
       "    </tr>\n",
       "  </tbody>\n",
       "</table>\n",
       "</div>"
      ],
      "text/plain": [
       "   female_dummy  Mortality Rate  Gender\n",
       "0             0        0.061473    Male\n",
       "1             1        0.242698  Female"
      ]
     },
     "execution_count": 26,
     "metadata": {},
     "output_type": "execute_result"
    }
   ],
   "source": [
    "age = df_hospital_AB[['female_dummy','patient_died_dummy']]\n",
    "age = age.groupby(['female_dummy']).mean()\n",
    "age = age.reset_index()\n",
    "age['gender'] = age['female_dummy'].map({0:'Male',1:'Female'})\n",
    "age.columns = ['female_dummy', 'Mortality Rate', 'Gender']\n",
    "print(\"Mortality by gender across both hospitals:\")\n",
    "age\n"
   ]
  },
  {
   "cell_type": "markdown",
   "id": "1cbbfc72-3832-4d44-a269-91f7b7eaebf0",
   "metadata": {},
   "source": [
    "Above summary shows that the mortality rate for female is higher than male. So, if a hospital has higher share of female population visiting them, overall mortality rate of that hospital will increase. Let's examine this distribution across both the hospitals"
   ]
  },
  {
   "cell_type": "code",
   "execution_count": 27,
   "id": "a3a1a6c6-3304-46ab-b331-4b1eb45afa48",
   "metadata": {},
   "outputs": [
    {
     "data": {
      "text/html": [
       "<div>\n",
       "<style scoped>\n",
       "    .dataframe tbody tr th:only-of-type {\n",
       "        vertical-align: middle;\n",
       "    }\n",
       "\n",
       "    .dataframe tbody tr th {\n",
       "        vertical-align: top;\n",
       "    }\n",
       "\n",
       "    .dataframe thead th {\n",
       "        text-align: right;\n",
       "    }\n",
       "</style>\n",
       "<table border=\"1\" class=\"dataframe\">\n",
       "  <thead>\n",
       "    <tr style=\"text-align: right;\">\n",
       "      <th></th>\n",
       "      <th>hospital</th>\n",
       "      <th>% of females visited</th>\n",
       "    </tr>\n",
       "  </thead>\n",
       "  <tbody>\n",
       "    <tr>\n",
       "      <th>0</th>\n",
       "      <td>A</td>\n",
       "      <td>0.232055</td>\n",
       "    </tr>\n",
       "    <tr>\n",
       "      <th>1</th>\n",
       "      <td>B</td>\n",
       "      <td>0.205056</td>\n",
       "    </tr>\n",
       "  </tbody>\n",
       "</table>\n",
       "</div>"
      ],
      "text/plain": [
       "  hospital  % of females visited\n",
       "0        A              0.232055\n",
       "1        B              0.205056"
      ]
     },
     "execution_count": 27,
     "metadata": {},
     "output_type": "execute_result"
    }
   ],
   "source": [
    "female_count = df_hospital_AB[['female_dummy','hospital_id']]\n",
    "female_count = female_count.groupby('hospital_id').mean()\n",
    "female_count = female_count.reset_index()\n",
    "female_count.columns = ['hospital','% of females visited']\n",
    "female_count"
   ]
  },
  {
   "cell_type": "markdown",
   "id": "5af8f487-eb1a-4ba4-9c3a-c0c166c44b7a",
   "metadata": {},
   "source": [
    "From above, Hospital A has a higher % of female patients as compared to Hospital B and Hospital A's overall mortality rate is higher. Difference in mortality rate calculated from the above regression is under-estimated and if we regress mortality rate on hospital and gender, coefficient of hospital B should be higher than what it was before."
   ]
  },
  {
   "cell_type": "code",
   "execution_count": 17,
   "id": "48828dcf-f616-4ea5-add5-a44472d61849",
   "metadata": {},
   "outputs": [
    {
     "name": "stdout",
     "output_type": "stream",
     "text": [
      "                            OLS Regression Results                            \n",
      "==============================================================================\n",
      "Dep. Variable:     patient_died_dummy   R-squared:                       0.062\n",
      "Model:                            OLS   Adj. R-squared:                  0.062\n",
      "Method:                 Least Squares   F-statistic:                     218.5\n",
      "Date:                Wed, 02 Feb 2022   Prob (F-statistic):           1.33e-92\n",
      "Time:                        21:33:51   Log-Likelihood:                -1235.6\n",
      "No. Observations:                6611   AIC:                             2477.\n",
      "Df Residuals:                    6608   BIC:                             2498.\n",
      "Df Model:                           2                                         \n",
      "Covariance Type:            nonrobust                                         \n",
      "====================================================================================\n",
      "                       coef    std err          t      P>|t|      [0.025      0.975]\n",
      "------------------------------------------------------------------------------------\n",
      "Intercept            0.0549      0.006      9.700      0.000       0.044       0.066\n",
      "hospital_id[T.B]     0.0121      0.007      1.680      0.093      -0.002       0.026\n",
      "female_dummy         0.1817      0.009     20.879      0.000       0.165       0.199\n",
      "==============================================================================\n",
      "Omnibus:                     3081.814   Durbin-Watson:                   2.038\n",
      "Prob(Omnibus):                  0.000   Jarque-Bera (JB):            12186.994\n",
      "Skew:                           2.412   Prob(JB):                         0.00\n",
      "Kurtosis:                       7.580   Cond. No.                         3.08\n",
      "==============================================================================\n",
      "\n",
      "Notes:\n",
      "[1] Standard Errors assume that the covariance matrix of the errors is correctly specified.\n"
     ]
    }
   ],
   "source": [
    "model_2 = smf.ols(formula = 'patient_died_dummy ~ hospital_id + female_dummy',\n",
    "                data = df_hospital_AB)\n",
    "result = model_2.fit()\n",
    "print(result.summary())"
   ]
  },
  {
   "cell_type": "markdown",
   "id": "fb5e0a71-08e3-43e9-a742-cce28921d20a",
   "metadata": {},
   "source": [
    "From this regression, since Hospital B has a higher coefficient, indicates difference in mortality was under-estimated."
   ]
  },
  {
   "cell_type": "markdown",
   "id": "25e476aa",
   "metadata": {},
   "source": [
    "Impact of age on this:"
   ]
  },
  {
   "cell_type": "code",
   "execution_count": 28,
   "id": "01bd779b-60f8-4314-89a6-45d7071e9c92",
   "metadata": {},
   "outputs": [
    {
     "name": "stdout",
     "output_type": "stream",
     "text": [
      "Average age of patients by hospital\n"
     ]
    },
    {
     "data": {
      "text/html": [
       "<div>\n",
       "<style scoped>\n",
       "    .dataframe tbody tr th:only-of-type {\n",
       "        vertical-align: middle;\n",
       "    }\n",
       "\n",
       "    .dataframe tbody tr th {\n",
       "        vertical-align: top;\n",
       "    }\n",
       "\n",
       "    .dataframe thead th {\n",
       "        text-align: right;\n",
       "    }\n",
       "</style>\n",
       "<table border=\"1\" class=\"dataframe\">\n",
       "  <thead>\n",
       "    <tr style=\"text-align: right;\">\n",
       "      <th></th>\n",
       "      <th>hospital</th>\n",
       "      <th>average age of patients</th>\n",
       "    </tr>\n",
       "  </thead>\n",
       "  <tbody>\n",
       "    <tr>\n",
       "      <th>0</th>\n",
       "      <td>A</td>\n",
       "      <td>65.705015</td>\n",
       "    </tr>\n",
       "    <tr>\n",
       "      <th>1</th>\n",
       "      <td>B</td>\n",
       "      <td>64.882303</td>\n",
       "    </tr>\n",
       "  </tbody>\n",
       "</table>\n",
       "</div>"
      ],
      "text/plain": [
       "  hospital  average age of patients\n",
       "0        A                65.705015\n",
       "1        B                64.882303"
      ]
     },
     "execution_count": 28,
     "metadata": {},
     "output_type": "execute_result"
    }
   ],
   "source": [
    "age = df_hospital_AB[['startage','hospital_id']]\n",
    "age = age.groupby('hospital_id').mean()\n",
    "age = age.reset_index()\n",
    "age.columns = ['hospital','average age of patients']\n",
    "print(\"Average age of patients by hospital\")\n",
    "age"
   ]
  },
  {
   "cell_type": "code",
   "execution_count": 14,
   "id": "c75ecead-545e-4ddb-9a0b-fc448b77e854",
   "metadata": {},
   "outputs": [
    {
     "data": {
      "image/png": "[encoded data removed]",
      "text/plain": [
       "<Figure size 432x288 with 1 Axes>"
      ]
     },
     "metadata": {
      "needs_background": "light"
     },
     "output_type": "display_data"
    }
   ],
   "source": [
    "age = df_hospital_AB[['startage','patient_died_dummy']]\n",
    "age = age.groupby('startage').mean()\n",
    "age = age.reset_index()\n",
    "plt.bar(age['startage'],age['patient_died_dummy'])\n",
    "plt.show()"
   ]
  },
  {
   "cell_type": "markdown",
   "id": "c4fcb781-8344-45ce-9b38-c17eadcf0eea",
   "metadata": {},
   "source": [
    "Impact of age on mortality rate is minimal from the average age of patients across hospitals and similar mortality rates across different age groups"
   ]
  },
  {
   "cell_type": "markdown",
   "id": "1ca42fad-8a6c-4ed5-9e98-934cdd4a5163",
   "metadata": {},
   "source": [
    "Thus, the difference in mortality rate of hospitals A and B is under-estimated, due to the impact of gender on mortality rate, overall distribution of female patients and overall mortality rate at A and B."
   ]
  },
  {
   "cell_type": "markdown",
   "id": "e2c99ebe-2975-4ef4-a9c6-e5a60ed24faa",
   "metadata": {},
   "source": [
    "(c)"
   ]
  },
  {
   "cell_type": "markdown",
   "id": "fcb5b7cf-b2a5-4e8c-8099-b455ef435921",
   "metadata": {},
   "source": [
    "As the mortality rate is effected by gender and age as seen previously, addition of these variables will get us closer to a more accurate regression-"
   ]
  },
  {
   "cell_type": "code",
   "execution_count": 19,
   "id": "2db0fabb-1884-4a2a-9814-8c128c2beddc",
   "metadata": {},
   "outputs": [
    {
     "name": "stdout",
     "output_type": "stream",
     "text": [
      "                            OLS Regression Results                            \n",
      "==============================================================================\n",
      "Dep. Variable:     patient_died_dummy   R-squared:                       0.063\n",
      "Model:                            OLS   Adj. R-squared:                  0.062\n",
      "Method:                 Least Squares   F-statistic:                     147.6\n",
      "Date:                Wed, 02 Feb 2022   Prob (F-statistic):           1.43e-92\n",
      "Time:                        22:05:03   Log-Likelihood:                -1232.8\n",
      "No. Observations:                6611   AIC:                             2474.\n",
      "Df Residuals:                    6607   BIC:                             2501.\n",
      "Df Model:                           3                                         \n",
      "Covariance Type:            nonrobust                                         \n",
      "====================================================================================\n",
      "                       coef    std err          t      P>|t|      [0.025      0.975]\n",
      "------------------------------------------------------------------------------------\n",
      "Intercept            0.1165      0.027      4.335      0.000       0.064       0.169\n",
      "hospital_id[T.B]     0.0114      0.007      1.579      0.114      -0.003       0.026\n",
      "female_dummy         0.1836      0.009     21.015      0.000       0.167       0.201\n",
      "startage            -0.0009      0.000     -2.347      0.019      -0.002      -0.000\n",
      "==============================================================================\n",
      "Omnibus:                     3080.506   Durbin-Watson:                   2.037\n",
      "Prob(Omnibus):                  0.000   Jarque-Bera (JB):            12181.285\n",
      "Skew:                           2.411   Prob(JB):                         0.00\n",
      "Kurtosis:                       7.580   Cond. No.                         495.\n",
      "==============================================================================\n",
      "\n",
      "Notes:\n",
      "[1] Standard Errors assume that the covariance matrix of the errors is correctly specified.\n"
     ]
    }
   ],
   "source": [
    "model_3 = smf.ols(formula = 'patient_died_dummy ~ hospital_id + female_dummy + startage',\n",
    "                data = df_hospital_AB)\n",
    "result_3 = model_3.fit()\n",
    "print(result_3.summary())"
   ]
  },
  {
   "cell_type": "markdown",
   "id": "55b7a30b-8d97-44ea-958e-38e85cdedef2",
   "metadata": {},
   "source": [
    "From above, we observe that the mortality rate of hospital B is higher than hospital A by 0.0114 units, holiding all other variables constant. But in the previous regression, this difference was just 0.0072. So, we observe that by including the these control variables (female_dummy and startage), we are closer to a causal estimate. The mortality mortality rate difference also increased by 0.0114 - 0.0072 = 0.0042 units"
   ]
  },
  {
   "cell_type": "markdown",
   "id": "61ccb28f-5e7e-42b5-bb53-389f30fe7d81",
   "metadata": {},
   "source": [
    "## 2 Demand estimation"
   ]
  },
  {
   "cell_type": "markdown",
   "id": "9d624f43-4c8a-4b97-9177-ede1cd698400",
   "metadata": {},
   "source": [
    "### Question 1"
   ]
  },
  {
   "cell_type": "code",
   "execution_count": 20,
   "id": "856563b1",
   "metadata": {},
   "outputs": [],
   "source": [
    "##loading demand_data.csv"
   ]
  },
  {
   "cell_type": "code",
   "execution_count": 21,
   "id": "c79b21d4-c794-42da-970e-b925fac52b53",
   "metadata": {},
   "outputs": [
    {
     "data": {
      "text/plain": [
       "Index(['vendor_id', 'week', 'summer_dummy', 'price', 'sales'], dtype='object')"
      ]
     },
     "execution_count": 21,
     "metadata": {},
     "output_type": "execute_result"
    }
   ],
   "source": [
    "df_demand_data = pd.read_csv('demand_data.csv')\n",
    "df_demand_data.columns"
   ]
  },
  {
   "cell_type": "code",
   "execution_count": 22,
   "id": "18c74584-ba37-4a2d-8827-2c47dae8cc89",
   "metadata": {},
   "outputs": [
    {
     "data": {
      "text/plain": [
       "array([  1,   2,   3,   4,   5,   6,   7,   8,   9,  10,  11,  12,  13,\n",
       "        14,  15,  16,  17,  18,  19,  20,  21,  22,  23,  24,  25,  26,\n",
       "        27,  28,  29,  30,  31,  32,  33,  34,  35,  36,  37,  38,  39,\n",
       "        40,  41,  42,  43,  44,  45,  46,  47,  48,  49,  50,  51,  52,\n",
       "        53,  54,  55,  56,  57,  58,  59,  60,  61,  62,  63,  64,  65,\n",
       "        66,  67,  68,  69,  70,  71,  72,  73,  74,  75,  76,  77,  78,\n",
       "        79,  80,  81,  82,  83,  84,  85,  86,  87,  88,  89,  90,  91,\n",
       "        92,  93,  94,  95,  96,  97,  98,  99, 100], dtype=int64)"
      ]
     },
     "execution_count": 22,
     "metadata": {},
     "output_type": "execute_result"
    }
   ],
   "source": [
    "df_demand_data['vendor_id'].unique()"
   ]
  },
  {
   "cell_type": "markdown",
   "id": "2b74259a-19de-417c-a93c-2f269909b0a6",
   "metadata": {},
   "source": [
    "Regression of Sales on Price"
   ]
  },
  {
   "cell_type": "code",
   "execution_count": 24,
   "id": "c91a82f4-69d3-45e3-97e9-bedda099c385",
   "metadata": {},
   "outputs": [
    {
     "name": "stdout",
     "output_type": "stream",
     "text": [
      "                            OLS Regression Results                            \n",
      "==============================================================================\n",
      "Dep. Variable:                  sales   R-squared:                       0.006\n",
      "Model:                            OLS   Adj. R-squared:                 -0.013\n",
      "Method:                 Least Squares   F-statistic:                    0.3250\n",
      "Date:                Wed, 02 Feb 2022   Prob (F-statistic):              0.571\n",
      "Time:                        22:19:57   Log-Likelihood:                -360.33\n",
      "No. Observations:                  52   AIC:                             724.7\n",
      "Df Residuals:                      50   BIC:                             728.6\n",
      "Df Model:                           1                                         \n",
      "Covariance Type:            nonrobust                                         \n",
      "==============================================================================\n",
      "                 coef    std err          t      P>|t|      [0.025      0.975]\n",
      "------------------------------------------------------------------------------\n",
      "Intercept   8983.8227    145.437     61.771      0.000    8691.704    9275.941\n",
      "price        -31.2310     54.782     -0.570      0.571    -141.264      78.802\n",
      "==============================================================================\n",
      "Omnibus:                        3.319   Durbin-Watson:                   1.572\n",
      "Prob(Omnibus):                  0.190   Jarque-Bera (JB):                2.367\n",
      "Skew:                           0.346   Prob(JB):                        0.306\n",
      "Kurtosis:                       3.784   Cond. No.                         12.5\n",
      "==============================================================================\n",
      "\n",
      "Notes:\n",
      "[1] Standard Errors assume that the covariance matrix of the errors is correctly specified.\n"
     ]
    }
   ],
   "source": [
    "df_demand_data_1 = df_demand_data[df_demand_data['vendor_id'] == 1]\n",
    "\n",
    "model_4 = smf.ols(formula = 'sales ~ price',\n",
    "                data = df_demand_data_1)\n",
    "result_2 = model_4.fit()\n",
    "print(result_2.summary())"
   ]
  },
  {
   "cell_type": "markdown",
   "id": "8060ea53-342d-4663-8ae1-4920f3b02013",
   "metadata": {},
   "source": [
    "Regression of Sales on Price and Summer Dummy"
   ]
  },
  {
   "cell_type": "code",
   "execution_count": 25,
   "id": "7d535b86-0148-427f-b3d3-55625c6aae1e",
   "metadata": {},
   "outputs": [
    {
     "name": "stdout",
     "output_type": "stream",
     "text": [
      "                            OLS Regression Results                            \n",
      "==============================================================================\n",
      "Dep. Variable:                  sales   R-squared:                       0.318\n",
      "Model:                            OLS   Adj. R-squared:                  0.290\n",
      "Method:                 Least Squares   F-statistic:                     11.42\n",
      "Date:                Wed, 02 Feb 2022   Prob (F-statistic):           8.49e-05\n",
      "Time:                        22:19:59   Log-Likelihood:                -350.56\n",
      "No. Observations:                  52   AIC:                             707.1\n",
      "Df Residuals:                      49   BIC:                             713.0\n",
      "Df Model:                           2                                         \n",
      "Covariance Type:            nonrobust                                         \n",
      "================================================================================\n",
      "                   coef    std err          t      P>|t|      [0.025      0.975]\n",
      "--------------------------------------------------------------------------------\n",
      "Intercept     9177.5500    128.432     71.458      0.000    8919.455    9435.644\n",
      "price         -141.1887     51.407     -2.746      0.008    -244.496     -37.882\n",
      "summer_dummy   358.5012     75.790      4.730      0.000     206.195     510.807\n",
      "==============================================================================\n",
      "Omnibus:                        0.027   Durbin-Watson:                   1.690\n",
      "Prob(Omnibus):                  0.986   Jarque-Bera (JB):                0.078\n",
      "Skew:                           0.039   Prob(JB):                        0.962\n",
      "Kurtosis:                       2.828   Cond. No.                         13.7\n",
      "==============================================================================\n",
      "\n",
      "Notes:\n",
      "[1] Standard Errors assume that the covariance matrix of the errors is correctly specified.\n"
     ]
    }
   ],
   "source": [
    "model_5 = smf.ols(formula = 'sales ~ price + summer_dummy',\n",
    "                data = df_demand_data_1)\n",
    "result_5 = model_5.fit()\n",
    "print(result_5.summary())"
   ]
  },
  {
   "cell_type": "markdown",
   "id": "44776107-90e8-442f-b6bc-54c3b3cba0ac",
   "metadata": {},
   "source": [
    "This is because of the omitted variable bias : \n",
    "$$E(\\hat{\\beta_1}) = \\beta_1 + \\beta_2 \\frac{Cov(X_1,X_2)}{Var(X_1)}$$\n",
    "\n",
    "$X_1$ is the price and $X_2$ is the summer dummy. Also, since $\\beta_{2} = 358.5012$, $Cov(X_1,X_2)$ can be calculated as follows:"
   ]
  },
  {
   "cell_type": "code",
   "execution_count": 20,
   "id": "41d1acda-16f9-4e3b-ab16-adfa703e212b",
   "metadata": {},
   "outputs": [
    {
     "data": {
      "text/plain": [
       "array([[0.41553544, 0.12745098],\n",
       "       [0.12745098, 0.19117647]])"
      ]
     },
     "execution_count": 20,
     "metadata": {},
     "output_type": "execute_result"
    }
   ],
   "source": [
    "np.cov(df_demand_data_1['price'],df_demand_data_1['summer_dummy'])"
   ]
  },
  {
   "cell_type": "markdown",
   "id": "25be550a-e60c-4079-b921-4d6dde9b1b1e",
   "metadata": {},
   "source": [
    "From above, we observe that the correlation between price and summer dummy is 0.127 which is positive. \n",
    "<br>Thus we can conclude that $\\hat{\\beta_1}$ calculated in the first regression (sales on price) will be overestimated. When summer_dummy is included into regression, $\\beta_1$ turned out to be -141.18 instead of -31.23 in earlier case. The coefficient -141.18 will be the true effect of price on sales in case there are no ommitted variables correlated with the price"
   ]
  },
  {
   "cell_type": "markdown",
   "id": "acc8a33a-85df-4300-9e30-49d9c58929b0",
   "metadata": {},
   "source": [
    "### Question 2"
   ]
  },
  {
   "cell_type": "markdown",
   "id": "57c06179-e24b-408f-b6ec-ccede30cf758",
   "metadata": {},
   "source": [
    "Regression 1 on Sales on Price"
   ]
  },
  {
   "cell_type": "code",
   "execution_count": 21,
   "id": "f321614c-90c7-4377-ad1b-b9a79bfe4ee8",
   "metadata": {},
   "outputs": [
    {
     "name": "stdout",
     "output_type": "stream",
     "text": [
      "                            OLS Regression Results                            \n",
      "==============================================================================\n",
      "Dep. Variable:                  sales   R-squared:                       0.133\n",
      "Model:                            OLS   Adj. R-squared:                  0.116\n",
      "Method:                 Least Squares   F-statistic:                     7.684\n",
      "Date:                Wed, 02 Feb 2022   Prob (F-statistic):            0.00781\n",
      "Time:                        15:57:52   Log-Likelihood:                -359.10\n",
      "No. Observations:                  52   AIC:                             722.2\n",
      "Df Residuals:                      50   BIC:                             726.1\n",
      "Df Model:                           1                                         \n",
      "Covariance Type:            nonrobust                                         \n",
      "==============================================================================\n",
      "                 coef    std err          t      P>|t|      [0.025      0.975]\n",
      "------------------------------------------------------------------------------\n",
      "Intercept   8411.1748    219.545     38.312      0.000    7970.205    8852.145\n",
      "price        218.6028     78.863      2.772      0.008      60.202     377.004\n",
      "==============================================================================\n",
      "Omnibus:                        1.154   Durbin-Watson:                   2.369\n",
      "Prob(Omnibus):                  0.562   Jarque-Bera (JB):                0.467\n",
      "Skew:                           0.114   Prob(JB):                        0.792\n",
      "Kurtosis:                       3.404   Cond. No.                         20.2\n",
      "==============================================================================\n",
      "\n",
      "Notes:\n",
      "[1] Standard Errors assume that the covariance matrix of the errors is correctly specified.\n"
     ]
    }
   ],
   "source": [
    "df_demand_data_2 = df_demand_data[df_demand_data['vendor_id'] == 2]\n",
    "\n",
    "model_6 = smf.ols(formula = 'sales ~ price',\n",
    "                data = df_demand_data_2)\n",
    "result = model_6.fit()\n",
    "print(result.summary())"
   ]
  },
  {
   "cell_type": "markdown",
   "id": "fade9632-564a-4815-8879-1d6e1a9bab21",
   "metadata": {},
   "source": [
    "Regression 2 on Sales on Price and Summer Dummy"
   ]
  },
  {
   "cell_type": "code",
   "execution_count": 22,
   "id": "0ea722d1-5458-4f24-a853-6729fc9d8bf4",
   "metadata": {},
   "outputs": [
    {
     "name": "stdout",
     "output_type": "stream",
     "text": [
      "                            OLS Regression Results                            \n",
      "==============================================================================\n",
      "Dep. Variable:                  sales   R-squared:                       0.133\n",
      "Model:                            OLS   Adj. R-squared:                  0.116\n",
      "Method:                 Least Squares   F-statistic:                     7.684\n",
      "Date:                Wed, 02 Feb 2022   Prob (F-statistic):            0.00781\n",
      "Time:                        15:57:53   Log-Likelihood:                -359.10\n",
      "No. Observations:                  52   AIC:                             722.2\n",
      "Df Residuals:                      50   BIC:                             726.1\n",
      "Df Model:                           1                                         \n",
      "Covariance Type:            nonrobust                                         \n",
      "================================================================================\n",
      "                   coef    std err          t      P>|t|      [0.025      0.975]\n",
      "--------------------------------------------------------------------------------\n",
      "Intercept     2105.3159     29.848     70.534      0.000    2045.364    2165.268\n",
      "price         2740.9463     10.951    250.283      0.000    2718.950    2762.943\n",
      "summer_dummy -2522.3436     75.986    -33.195      0.000   -2674.966   -2369.721\n",
      "==============================================================================\n",
      "Omnibus:                        1.154   Durbin-Watson:                   2.369\n",
      "Prob(Omnibus):                  0.562   Jarque-Bera (JB):                0.467\n",
      "Skew:                           0.114   Prob(JB):                        0.792\n",
      "Kurtosis:                       3.404   Cond. No.                     4.08e+16\n",
      "==============================================================================\n",
      "\n",
      "Notes:\n",
      "[1] Standard Errors assume that the covariance matrix of the errors is correctly specified.\n",
      "[2] The smallest eigenvalue is 2.75e-31. This might indicate that there are\n",
      "strong multicollinearity problems or that the design matrix is singular.\n"
     ]
    }
   ],
   "source": [
    "model_7 = smf.ols(formula = 'sales ~ price + summer_dummy',\n",
    "                data = df_demand_data_2)\n",
    "result_7 = model_7.fit()\n",
    "print(result_7.summary())"
   ]
  },
  {
   "cell_type": "markdown",
   "id": "1628100f-0334-44aa-bd05-ef49b6339425",
   "metadata": {},
   "source": [
    "The matrix is singular because of a very high Cond.No. (4.08e+16) and very small eigen value of 2.75e-31. This arises from the multicollinearity. There's a high chance of intercorrelations among two or more independent variables in the model."
   ]
  },
  {
   "cell_type": "markdown",
   "id": "39e0aea9",
   "metadata": {},
   "source": [
    " Let's examine correlation between price and summer_dummy"
   ]
  },
  {
   "cell_type": "code",
   "execution_count": 23,
   "id": "340e1843-013c-4909-b1fe-6409e6fb7a56",
   "metadata": {},
   "outputs": [
    {
     "data": {
      "text/plain": [
       "array([[1., 1.],\n",
       "       [1., 1.]])"
      ]
     },
     "execution_count": 23,
     "metadata": {},
     "output_type": "execute_result"
    }
   ],
   "source": [
    "np.corrcoef(df_demand_data_2['price'],df_demand_data_2['summer_dummy'])"
   ]
  },
  {
   "cell_type": "markdown",
   "id": "4a17dea7-42ae-43cf-929d-cc69c755be29",
   "metadata": {},
   "source": [
    "Since the correlation between price and summer_dummy is 1 which indicates perfect collinearity, the model suffers from multicollinearity issue."
   ]
  },
  {
   "cell_type": "markdown",
   "id": "9ecaf29c-3722-45c4-b80e-ab921aafa1c4",
   "metadata": {},
   "source": [
    "### Question 3"
   ]
  },
  {
   "cell_type": "markdown",
   "id": "64099c24-a181-47f7-a08a-f6d2a7b7f357",
   "metadata": {},
   "source": [
    "In case the vendors did not systematically charge higher or lower prices in summer, there wouldn't be any correlation between prices and summer_dummy vaiables. Thus when we run two regressions - one with price and sales , another with only price as independent variables, since price and dummy are not correlated, the coefficient estimate for price will not change in both these regressions. There will be no omitted variable bias here. But when we add summer dummy, there will be an improvement in precision. "
   ]
  }
 ],
 "metadata": {
  "kernelspec": {
   "display_name": "Python 3",
   "language": "python",
   "name": "python3"
  },
  "language_info": {
   "codemirror_mode": {
    "name": "ipython",
    "version": 3
   },
   "file_extension": ".py",
   "mimetype": "text/x-python",
   "name": "python",
   "nbconvert_exporter": "python",
   "pygments_lexer": "ipython3",
   "version": "3.8.8"
  }
 },
 "nbformat": 4,
 "nbformat_minor": 5
}
